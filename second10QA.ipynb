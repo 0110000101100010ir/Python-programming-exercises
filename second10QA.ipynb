{
 "cells": [
  {
   "cell_type": "markdown",
   "metadata": {},
   "source": [
    "# Question 11\n",
    "\n",
    "### Level 2\n",
    "\n",
    "**Question: Write a program which accepts a sequence of comma separated 4 digit binary numbers as its input and then check whether they are divisible by 5 or not. The numbers that are divisible by 5 are to be printed in a comma separated sequence. Example: 0100,0011,1010,1001 Then the output should be: 1010 Notes: Assume the data is input by console.**\n",
    "\n",
    "Hints: In case of input data being supplied to the question, it should be assumed to be a console input."
   ]
  },
  {
   "cell_type": "code",
   "execution_count": 68,
   "metadata": {},
   "outputs": [
    {
     "name": "stdin",
     "output_type": "stream",
     "text": [
      " 0100,0011,1010,1001\n"
     ]
    },
    {
     "data": {
      "text/plain": [
       "['1010']"
      ]
     },
     "execution_count": 68,
     "metadata": {},
     "output_type": "execute_result"
    }
   ],
   "source": [
    "def bin5div(args):\n",
    "    args = args.split(\",\")\n",
    "    out = list()\n",
    "    for binary in args:\n",
    "        if int(binary, 2)%5==0:\n",
    "            out.append(binary)\n",
    "    return out\n",
    "\n",
    "bin5div(input())"
   ]
  },
  {
   "cell_type": "markdown",
   "metadata": {},
   "source": [
    "# Question 12\n",
    "\n",
    "### Level 2\n",
    "\n",
    "**Question: Write a program, which will find all such numbers between 1000 and 3000 (both included) such that each digit of the number is an even number. The numbers obtained should be printed in a comma-separated sequence on a single line.**\n",
    "\n",
    "Hints: In case of input data being supplied to the question, it should be assumed to be a console input."
   ]
  },
  {
   "cell_type": "code",
   "execution_count": 96,
   "metadata": {},
   "outputs": [
    {
     "name": "stdout",
     "output_type": "stream",
     "text": [
      "[2000, 2002, 2004, 2006, 2008, 2020, 2022, 2024, 2026, 2028, 2040, 2042, 2044, 2046, 2048, 2060, 2062, 2064, 2066, 2068, 2080, 2082, 2084, 2086, 2088, 2200, 2202, 2204, 2206, 2208, 2220, 2222, 2224, 2226, 2228, 2240, 2242, 2244, 2246, 2248, 2260, 2262, 2264, 2266, 2268, 2280, 2282, 2284, 2286, 2288, 2400, 2402, 2404, 2406, 2408, 2420, 2422, 2424, 2426, 2428, 2440, 2442, 2444, 2446, 2448, 2460, 2462, 2464, 2466, 2468, 2480, 2482, 2484, 2486, 2488, 2600, 2602, 2604, 2606, 2608, 2620, 2622, 2624, 2626, 2628, 2640, 2642, 2644, 2646, 2648, 2660, 2662, 2664, 2666, 2668, 2680, 2682, 2684, 2686, 2688, 2800, 2802, 2804, 2806, 2808, 2820, 2822, 2824, 2826, 2828, 2840, 2842, 2844, 2846, 2848, 2860, 2862, 2864, 2866, 2868, 2880, 2882, 2884, 2886, 2888]\n"
     ]
    }
   ],
   "source": [
    "#naive approach\n",
    "def even(low,high):\n",
    "    \n",
    "    out = list()\n",
    "    for num in range(low,high):\n",
    "        num = list(str(num))\n",
    "        index = 0\n",
    "        for digit in num:\n",
    "            if not (int(digit)%2==0):\n",
    "                    if (int(digit)==9):\n",
    "                        num[index] = '0'\n",
    "                    else:\n",
    "                        num[index] = str(int(digit)+1)\n",
    "            index+=1\n",
    "        out.append(int(\"\".join(num)))\n",
    "    out = sorted(list(set(out)))\n",
    "    return out\n",
    "\n",
    "print(even(1000, 3000))"
   ]
  },
  {
   "cell_type": "markdown",
   "metadata": {},
   "source": [
    "# Question 13\n",
    "\n",
    "### Level 2\n",
    "\n",
    "**Question: Write a program that accepts a sentence and calculate the number of letters and digits. Suppose the following input is supplied to the program: hello world! 123 Then, the output should be: LETTERS 10 DIGITS 3**\n",
    "\n",
    "Hints: In case of input data being supplied to the question, it should be assumed to be a console input."
   ]
  },
  {
   "cell_type": "code",
   "execution_count": 129,
   "metadata": {},
   "outputs": [
    {
     "name": "stdin",
     "output_type": "stream",
     "text": [
      " hello world! 123 \n"
     ]
    },
    {
     "data": {
      "text/plain": [
       "'LETTERS 10 DIGITS 3'"
      ]
     },
     "execution_count": 129,
     "metadata": {},
     "output_type": "execute_result"
    }
   ],
   "source": [
    "def letdig(args):\n",
    "    args=list(args)\n",
    "    digits = 0\n",
    "    characters = 0\n",
    "    DIGITS = [str(num) for num in range(0,10)]\n",
    "    UPPER = [chr(num) for num in range(65,91)]\n",
    "    LOWER = [chr(num) for num in range(97,123)]\n",
    "    for char in args:\n",
    "        if char in DIGITS:\n",
    "            digits+=1\n",
    "        else:\n",
    "            if char in UPPER or char in LOWER:\n",
    "                characters += 1\n",
    "            \n",
    "    return f\"LETTERS {characters} DIGITS {digits}\"\n",
    "\n",
    "letdig(input())"
   ]
  },
  {
   "cell_type": "markdown",
   "metadata": {},
   "source": [
    "# Question 14\n",
    "\n",
    "### Level 2\n",
    "\n",
    "**Question: Write a program that accepts a sentence and calculate the number of upper case letters and lower case letters. Suppose the following input is supplied to the program: Hello world! Then, the output should be: UPPER CASE 1 LOWER CASE 9**\n",
    "\n",
    "Hints: In case of input data being supplied to the question, it should be assumed to be a console input."
   ]
  },
  {
   "cell_type": "code",
   "execution_count": 128,
   "metadata": {},
   "outputs": [
    {
     "name": "stdin",
     "output_type": "stream",
     "text": [
      " Hello world!\n"
     ]
    },
    {
     "data": {
      "text/plain": [
       "'UPPER CASE 1 LOWER CASE 9'"
      ]
     },
     "execution_count": 128,
     "metadata": {},
     "output_type": "execute_result"
    }
   ],
   "source": [
    "DIGITS = [str(num) for num in range(0,10)]\n",
    "UPPER = [chr(num) for num in range(65,91)]\n",
    "LOWER = [chr(num) for num in range(97,123)]\n",
    "def uplocount(args):\n",
    "    u=0\n",
    "    l=0\n",
    "    for char in args:\n",
    "        if char in UPPER and not char in DIGITS:\n",
    "            u+=1\n",
    "        else:\n",
    "            if char in LOWER and not char in DIGITS:\n",
    "                l+=1\n",
    "    return f\"UPPER CASE {u} LOWER CASE {l}\"\n",
    "\n",
    "uplocount(input())"
   ]
  },
  {
   "cell_type": "markdown",
   "metadata": {},
   "source": [
    "# Question 15\n",
    "\n",
    "### Level 2\n",
    "\n",
    "**Question: Write a program that computes the value of a+aa+aaa+aaaa with a given digit as the value of a. Suppose the following input is supplied to the program: 9 Then, the output should be: 11106**\n",
    "\n",
    "Hints: In case of input data being supplied to the question, it should be assumed to be a console input."
   ]
  },
  {
   "cell_type": "code",
   "execution_count": 134,
   "metadata": {},
   "outputs": [
    {
     "data": {
      "text/plain": [
       "11106"
      ]
     },
     "execution_count": 134,
     "metadata": {},
     "output_type": "execute_result"
    }
   ],
   "source": [
    "def take_input(a):\n",
    "    #template: a+aa+aaa+aaaa\n",
    "    template = \"a+aa+aaa+aaaa\"\n",
    "    template = template.replace(\"a\",str(a))\n",
    "    return eval(template)\n",
    "take_input(9)"
   ]
  },
  {
   "cell_type": "markdown",
   "metadata": {},
   "source": [
    "# Question 16\n",
    "\n",
    "### Level 2\n",
    "\n",
    "**Question: Use a list comprehension to square each odd number in a list. The list is input by a sequence of comma-separated numbers. Suppose the following input is supplied to the program: 1,2,3,4,5,6,7,8,9 Then, the output should be: 1,3,5,7,9**\n",
    "\n",
    "Hints: In case of input data being supplied to the question, it should be assumed to be a console input."
   ]
  },
  {
   "cell_type": "code",
   "execution_count": 138,
   "metadata": {},
   "outputs": [
    {
     "name": "stdin",
     "output_type": "stream",
     "text": [
      " 1,2,3,4,5,6,7,8,9 \n"
     ]
    },
    {
     "data": {
      "text/plain": [
       "'1,9,25,49,81'"
      ]
     },
     "execution_count": 138,
     "metadata": {},
     "output_type": "execute_result"
    }
   ],
   "source": [
    "# output in question does not match the, required operation: square each odd number in a list\n",
    "\n",
    "def sqodd(args):\n",
    "    args = args.split(\",\")\n",
    "    return \",\".join([str(int(num)**2) for num in args if not int(num)%2==0])\n",
    "\n",
    "sqodd(input())"
   ]
  },
  {
   "cell_type": "markdown",
   "metadata": {},
   "source": [
    "# Question 17\n",
    "\n",
    "### Level 2\n",
    "\n",
    "**Question: Write a program that computes the net amount of a bank account based a transaction log from console input. The transaction log format is shown as following: D 100 W 200**\n",
    "\n",
    "**D means deposit while W means withdrawal. Suppose the following input is supplied to the program: D 300 D 300 W 200 D 100 Then, the output should be: 500**\n",
    "\n",
    "Hints: In case of input data being supplied to the question, it should be assumed to be a console input."
   ]
  },
  {
   "cell_type": "code",
   "execution_count": 143,
   "metadata": {},
   "outputs": [
    {
     "name": "stdin",
     "output_type": "stream",
     "text": [
      " D 300 D 300 W 200 D 100 200\n"
     ]
    },
    {
     "data": {
      "text/plain": [
       "'INVALID INPUT'"
      ]
     },
     "execution_count": 143,
     "metadata": {},
     "output_type": "execute_result"
    }
   ],
   "source": [
    "def accstmnt(args):\n",
    "    amount = 0\n",
    "    args = args.split()\n",
    "    index = 0\n",
    "    while index < len(args):\n",
    "        if args[index].isdigit:\n",
    "            if args[index-1] == \"D\":\n",
    "                amount += int(args[index])\n",
    "            elif args[index-1] == 'W':\n",
    "                amount -= int(args[index])\n",
    "            else:\n",
    "                return \"INVALID INPUT\"\n",
    "        index+=1\n",
    "    return amount\n",
    "accstmnt(input())"
   ]
  },
  {
   "cell_type": "markdown",
   "metadata": {},
   "source": [
    "# Question 18\n",
    "\n",
    "### Level 3\n",
    "\n",
    "**Question: A website requires the users to input username and password to register. Write a program to check the validity of password input by users. Following are the criteria for checking the password:**\n",
    "\n",
    "*At least 1 letter between [a-z] <br>\n",
    "*At least 1 number between [0-9] <br>\n",
    "*At least 1 letter between [A-Z] <br>\n",
    "*At least 1 character from [$#@] <br>\n",
    "\n",
    "**Minimum length of transaction password: 6 <br>\n",
    "Maximum length of transaction password: 12 <br> Your program should accept a sequence of comma separated passwords and will check them according to the above criteria. Passwords that match the criteria are to be printed, each separated by a comma. Example If the following passwords are given as input to the program: ABd1234@1,a F1#,2w3E*,2We3345 Then, the output of the program should be: ABd1234@1\n",
    "Hints: In case of input data being supplied to the question, it should be assumed to be a console input.**"
   ]
  },
  {
   "cell_type": "code",
   "execution_count": 151,
   "metadata": {},
   "outputs": [
    {
     "name": "stdin",
     "output_type": "stream",
     "text": [
      " ABd1234@1,a F1#,2w3E*,2We3345 \n"
     ]
    },
    {
     "data": {
      "text/plain": [
       "['ABd1234@1']"
      ]
     },
     "execution_count": 151,
     "metadata": {},
     "output_type": "execute_result"
    }
   ],
   "source": [
    "DIGITS = [str(num) for num in range(0,10)]\n",
    "UPPER = [chr(num) for num in range(65,91)]\n",
    "LOWER = [chr(num) for num in range(97,123)]\n",
    "SPECIAL = ['$','#','@']\n",
    "REQUIRED = DIGITS + UPPER + LOWER + SPECIAL\n",
    "\n",
    "def check_pass(args):\n",
    "    args = args.split(\",\")\n",
    "    valid = list()\n",
    "    flag = False\n",
    "    for password in args:\n",
    "        if len(password)>=6 and len(password)<=12:\n",
    "            for char in password:\n",
    "                if char in REQUIRED:\n",
    "                    flag = True\n",
    "                else:\n",
    "                    flag = False\n",
    "        if flag:\n",
    "            valid.append(password)\n",
    "            flag = False\n",
    "            \n",
    "    return valid\n",
    "check_pass(input())\n",
    "    "
   ]
  },
  {
   "cell_type": "markdown",
   "metadata": {},
   "source": [
    "# Question 19\n",
    "\n",
    "### Level 3\n",
    "\n",
    "**Question: You are required to write a program to sort the (name, age, height) tuples by ascending order where name is string, age and height are numbers. The tuples are input by console. The sort criteria is: 1: Sort based on name; 2: Then sort based on age; 3: Then sort by score. The priority is that name > age > score. If the following tuples are given as input to the program: Tom,19,80 John,20,90 Jony,17,91 Jony,17,93 Json,21,85 Then, the output of the program should be: [('John', '20', '90'), ('Jony', '17', '91'), ('Jony', '17', '93'), ('Json', '21', '85'), ('Tom', '19', '80')]**\n",
    "\n",
    "Hints: In case of input data being supplied to the question, it should be assumed to be a console input. We use itemgetter to enable multiple sort keys."
   ]
  },
  {
   "cell_type": "code",
   "execution_count": 224,
   "metadata": {},
   "outputs": [
    {
     "name": "stdin",
     "output_type": "stream",
     "text": [
      " Tom,19,80 John,20,90 Jony,17,91 Jony,17,93 Json,21,85 \n"
     ]
    },
    {
     "name": "stdout",
     "output_type": "stream",
     "text": [
      "[('John', '20', '90'), ('Jony', '17', '91'), ('Jony', '17', '93'), ('Json', '21', '85'), ('Tom', '19', '80')]\n"
     ]
    }
   ],
   "source": [
    "def sort_mech(*args):\n",
    "    if len(args) == 1:\n",
    "        arg = args[0]\n",
    "        def nxt(item):\n",
    "            return item[arg]\n",
    "    else:\n",
    "        def nxt(item):\n",
    "            return tuple(item[arg] for arg in args)\n",
    "    return nxt\n",
    "        \n",
    "     \n",
    "def tup(args):\n",
    "    args = args.split()\n",
    "    index = 0\n",
    "    while index<len(args):\n",
    "        args[index]=tuple(args[index].split(\",\"))\n",
    "        index += 1\n",
    "    return args\n",
    "\n",
    "print(sorted(tup(input()),key=sort_mech(0,1,2)))  "
   ]
  },
  {
   "cell_type": "markdown",
   "metadata": {},
   "source": [
    "# Question 20\n",
    "\n",
    "### Level 3\n",
    "\n",
    "**Question: Define a class with a generator which can iterate the numbers, which are divisible by 7, between a given range 0 and n.**\n",
    "\n",
    "Hints: Consider use yield"
   ]
  },
  {
   "cell_type": "code",
   "execution_count": 228,
   "metadata": {},
   "outputs": [
    {
     "name": "stdout",
     "output_type": "stream",
     "text": [
      "7,14,21,28,35,42,49,"
     ]
    }
   ],
   "source": [
    "# class? function\n",
    "def myGen(n):\n",
    "    low = 1\n",
    "    while low<n:\n",
    "        if low%7==0:\n",
    "            yield low\n",
    "        low += 1\n",
    "        \n",
    "for num in myGen(50):\n",
    "    print(num, end=\",\")"
   ]
  }
 ],
 "metadata": {
  "kernelspec": {
   "display_name": "Python 3",
   "language": "python",
   "name": "python3"
  },
  "language_info": {
   "codemirror_mode": {
    "name": "ipython",
    "version": 3
   },
   "file_extension": ".py",
   "mimetype": "text/x-python",
   "name": "python",
   "nbconvert_exporter": "python",
   "pygments_lexer": "ipython3",
   "version": "3.8.6"
  }
 },
 "nbformat": 4,
 "nbformat_minor": 4
}
